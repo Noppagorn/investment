{
 "cells": [
  {
   "cell_type": "code",
   "execution_count": 142,
   "id": "11385b27",
   "metadata": {},
   "outputs": [],
   "source": [
    "import gspread\n",
    "import pandas as pd\n",
    "import numpy as np\n",
    "import matplotlib.pyplot as plt\n",
    "from gspread_dataframe import get_as_dataframe, set_with_dataframe"
   ]
  },
  {
   "cell_type": "code",
   "execution_count": 143,
   "id": "a4f1ed25",
   "metadata": {},
   "outputs": [],
   "source": [
    "plt.rcParams['figure.figsize'] = [20, 10]\n",
    "font = {'family' : 'normal',\n",
    "        'weight' : 'bold',\n",
    "        'size'   : 18}\n",
    "\n",
    "plt.rc('font', **font)\n",
    "plt.style.use('seaborn-pastel')"
   ]
  },
  {
   "cell_type": "code",
   "execution_count": 144,
   "id": "5979f0f8",
   "metadata": {},
   "outputs": [],
   "source": [
    "sa = gspread.service_account()"
   ]
  },
  {
   "cell_type": "code",
   "execution_count": 145,
   "id": "faced521",
   "metadata": {},
   "outputs": [],
   "source": [
    "sh = sa.open(\"Assets\")"
   ]
  },
  {
   "cell_type": "code",
   "execution_count": 146,
   "id": "39a45666",
   "metadata": {
    "scrolled": true
   },
   "outputs": [
    {
     "data": {
      "text/plain": [
       "<Spreadsheet 'Assets' id:1yOJilce4weCy7AogTrFVR_3cA568ikXlgTbl2yBahHg>"
      ]
     },
     "execution_count": 146,
     "metadata": {},
     "output_type": "execute_result"
    }
   ],
   "source": [
    "sh"
   ]
  },
  {
   "cell_type": "code",
   "execution_count": 147,
   "id": "9c7556c7",
   "metadata": {},
   "outputs": [],
   "source": [
    "wks = sh.worksheet(\"rawData\")"
   ]
  },
  {
   "cell_type": "code",
   "execution_count": 148,
   "id": "04895627",
   "metadata": {},
   "outputs": [],
   "source": [
    "rawData = get_as_dataframe(wks)"
   ]
  },
  {
   "cell_type": "code",
   "execution_count": 149,
   "id": "ae40c384",
   "metadata": {
    "scrolled": true
   },
   "outputs": [],
   "source": [
    "data = rawData.iloc[:,0:5].loc[rawData.name.notnull()]"
   ]
  },
  {
   "cell_type": "code",
   "execution_count": 150,
   "id": "3c1c9104",
   "metadata": {
    "scrolled": true
   },
   "outputs": [
    {
     "data": {
      "text/html": [
       "<div>\n",
       "<style scoped>\n",
       "    .dataframe tbody tr th:only-of-type {\n",
       "        vertical-align: middle;\n",
       "    }\n",
       "\n",
       "    .dataframe tbody tr th {\n",
       "        vertical-align: top;\n",
       "    }\n",
       "\n",
       "    .dataframe thead th {\n",
       "        text-align: right;\n",
       "    }\n",
       "</style>\n",
       "<table border=\"1\" class=\"dataframe\">\n",
       "  <thead>\n",
       "    <tr style=\"text-align: right;\">\n",
       "      <th></th>\n",
       "      <th>date</th>\n",
       "      <th>name</th>\n",
       "      <th>type</th>\n",
       "      <th>cost</th>\n",
       "      <th>currentPrice</th>\n",
       "    </tr>\n",
       "  </thead>\n",
       "  <tbody>\n",
       "    <tr>\n",
       "      <th>0</th>\n",
       "      <td>8-29-2022</td>\n",
       "      <td>BDMS</td>\n",
       "      <td>Thai Strock</td>\n",
       "      <td>1407.14</td>\n",
       "      <td>2109.00</td>\n",
       "    </tr>\n",
       "    <tr>\n",
       "      <th>1</th>\n",
       "      <td>8-29-2022</td>\n",
       "      <td>BTS</td>\n",
       "      <td>Thai Strock</td>\n",
       "      <td>1691.23</td>\n",
       "      <td>1302.00</td>\n",
       "    </tr>\n",
       "    <tr>\n",
       "      <th>2</th>\n",
       "      <td>8-29-2022</td>\n",
       "      <td>CPALL</td>\n",
       "      <td>Thai Strock</td>\n",
       "      <td>4616.49</td>\n",
       "      <td>4036.75</td>\n",
       "    </tr>\n",
       "    <tr>\n",
       "      <th>3</th>\n",
       "      <td>8-29-2022</td>\n",
       "      <td>HMPRO</td>\n",
       "      <td>Thai Strock</td>\n",
       "      <td>2141.13</td>\n",
       "      <td>2856.00</td>\n",
       "    </tr>\n",
       "    <tr>\n",
       "      <th>4</th>\n",
       "      <td>8-29-2022</td>\n",
       "      <td>MAJOR</td>\n",
       "      <td>Thai Strock</td>\n",
       "      <td>1061.78</td>\n",
       "      <td>1351.00</td>\n",
       "    </tr>\n",
       "    <tr>\n",
       "      <th>5</th>\n",
       "      <td>8-29-2022</td>\n",
       "      <td>SCGP256A</td>\n",
       "      <td>Thai Bound</td>\n",
       "      <td>20000.00</td>\n",
       "      <td>20000.00</td>\n",
       "    </tr>\n",
       "    <tr>\n",
       "      <th>6</th>\n",
       "      <td>8-29-2022</td>\n",
       "      <td>K-VIETNAM</td>\n",
       "      <td>Fund</td>\n",
       "      <td>11500.00</td>\n",
       "      <td>12193.14</td>\n",
       "    </tr>\n",
       "    <tr>\n",
       "      <th>7</th>\n",
       "      <td>8-29-2022</td>\n",
       "      <td>K-Change-A(A)</td>\n",
       "      <td>Fund</td>\n",
       "      <td>9999.99</td>\n",
       "      <td>9826.62</td>\n",
       "    </tr>\n",
       "    <tr>\n",
       "      <th>8</th>\n",
       "      <td>8-29-2022</td>\n",
       "      <td>B-INNOTECH</td>\n",
       "      <td>Fund</td>\n",
       "      <td>7000.00</td>\n",
       "      <td>7692.00</td>\n",
       "    </tr>\n",
       "    <tr>\n",
       "      <th>9</th>\n",
       "      <td>8-29-2022</td>\n",
       "      <td>K-CHANGE-SSF</td>\n",
       "      <td>Fund</td>\n",
       "      <td>2500.00</td>\n",
       "      <td>1995.99</td>\n",
       "    </tr>\n",
       "    <tr>\n",
       "      <th>10</th>\n",
       "      <td>8-29-2022</td>\n",
       "      <td>K-USXNDQ-A(D)</td>\n",
       "      <td>Fund</td>\n",
       "      <td>1000.00</td>\n",
       "      <td>1124.25</td>\n",
       "    </tr>\n",
       "    <tr>\n",
       "      <th>11</th>\n",
       "      <td>8-29-2022</td>\n",
       "      <td>ONE-UGG-RA</td>\n",
       "      <td>Fund</td>\n",
       "      <td>1000.00</td>\n",
       "      <td>769.73</td>\n",
       "    </tr>\n",
       "    <tr>\n",
       "      <th>12</th>\n",
       "      <td>8-29-2022</td>\n",
       "      <td>Cash</td>\n",
       "      <td>Cash</td>\n",
       "      <td>67157.14</td>\n",
       "      <td>67157.14</td>\n",
       "    </tr>\n",
       "    <tr>\n",
       "      <th>13</th>\n",
       "      <td>8-29-2022</td>\n",
       "      <td>OffShore</td>\n",
       "      <td>Cash</td>\n",
       "      <td>4000.00</td>\n",
       "      <td>4278.00</td>\n",
       "    </tr>\n",
       "    <tr>\n",
       "      <th>14</th>\n",
       "      <td>8-29-2022</td>\n",
       "      <td>Lend</td>\n",
       "      <td>Lend</td>\n",
       "      <td>15000.00</td>\n",
       "      <td>15000.00</td>\n",
       "    </tr>\n",
       "    <tr>\n",
       "      <th>15</th>\n",
       "      <td>8-29-2022</td>\n",
       "      <td>Cash</td>\n",
       "      <td>Cash</td>\n",
       "      <td>5600.00</td>\n",
       "      <td>5600.00</td>\n",
       "    </tr>\n",
       "  </tbody>\n",
       "</table>\n",
       "</div>"
      ],
      "text/plain": [
       "         date           name         type      cost  currentPrice\n",
       "0   8-29-2022           BDMS  Thai Strock   1407.14       2109.00\n",
       "1   8-29-2022            BTS  Thai Strock   1691.23       1302.00\n",
       "2   8-29-2022          CPALL  Thai Strock   4616.49       4036.75\n",
       "3   8-29-2022          HMPRO  Thai Strock   2141.13       2856.00\n",
       "4   8-29-2022          MAJOR  Thai Strock   1061.78       1351.00\n",
       "5   8-29-2022       SCGP256A   Thai Bound  20000.00      20000.00\n",
       "6   8-29-2022      K-VIETNAM         Fund  11500.00      12193.14\n",
       "7   8-29-2022  K-Change-A(A)         Fund   9999.99       9826.62\n",
       "8   8-29-2022     B-INNOTECH         Fund   7000.00       7692.00\n",
       "9   8-29-2022   K-CHANGE-SSF         Fund   2500.00       1995.99\n",
       "10  8-29-2022  K-USXNDQ-A(D)         Fund   1000.00       1124.25\n",
       "11  8-29-2022     ONE-UGG-RA         Fund   1000.00        769.73\n",
       "12  8-29-2022           Cash         Cash  67157.14      67157.14\n",
       "13  8-29-2022       OffShore         Cash   4000.00       4278.00\n",
       "14  8-29-2022           Lend         Lend  15000.00      15000.00\n",
       "15  8-29-2022           Cash         Cash   5600.00       5600.00"
      ]
     },
     "execution_count": 150,
     "metadata": {},
     "output_type": "execute_result"
    }
   ],
   "source": [
    "data"
   ]
  },
  {
   "cell_type": "markdown",
   "id": "bce5043a",
   "metadata": {},
   "source": [
    "# Current Assets\n",
    "- in Bath TH"
   ]
  },
  {
   "cell_type": "code",
   "execution_count": 151,
   "id": "e0225f78",
   "metadata": {},
   "outputs": [
    {
     "data": {
      "text/plain": [
       "157291.62"
      ]
     },
     "execution_count": 151,
     "metadata": {},
     "output_type": "execute_result"
    }
   ],
   "source": [
    "currentPrice = data.currentPrice.sum()\n",
    "currentPrice"
   ]
  },
  {
   "cell_type": "markdown",
   "id": "ccffb5f0",
   "metadata": {},
   "source": [
    "# Cost Assets\n",
    "- in Bath TH"
   ]
  },
  {
   "cell_type": "code",
   "execution_count": 152,
   "id": "45795c1e",
   "metadata": {},
   "outputs": [
    {
     "data": {
      "text/plain": [
       "155674.9"
      ]
     },
     "execution_count": 152,
     "metadata": {},
     "output_type": "execute_result"
    }
   ],
   "source": [
    "cost = data.cost.sum()\n",
    "cost"
   ]
  },
  {
   "cell_type": "code",
   "execution_count": 153,
   "id": "031a2476",
   "metadata": {
    "scrolled": false
   },
   "outputs": [
    {
     "data": {
      "text/plain": [
       "<AxesSubplot:xlabel='name'>"
      ]
     },
     "execution_count": 153,
     "metadata": {},
     "output_type": "execute_result"
    },
    {
     "data": {
      "image/png": "[encoded data removed]",
      "text/plain": [
       "<Figure size 1440x720 with 1 Axes>"
      ]
     },
     "metadata": {},
     "output_type": "display_data"
    }
   ],
   "source": [
    "data.plot(x=\"name\", y=\"currentPrice\", kind=\"bar\")"
   ]
  },
  {
   "cell_type": "code",
   "execution_count": 154,
   "id": "d6d2a5d6",
   "metadata": {},
   "outputs": [
    {
     "data": {
      "text/html": [
       "<div>\n",
       "<style scoped>\n",
       "    .dataframe tbody tr th:only-of-type {\n",
       "        vertical-align: middle;\n",
       "    }\n",
       "\n",
       "    .dataframe tbody tr th {\n",
       "        vertical-align: top;\n",
       "    }\n",
       "\n",
       "    .dataframe thead th {\n",
       "        text-align: right;\n",
       "    }\n",
       "</style>\n",
       "<table border=\"1\" class=\"dataframe\">\n",
       "  <thead>\n",
       "    <tr style=\"text-align: right;\">\n",
       "      <th></th>\n",
       "      <th>date</th>\n",
       "      <th>name</th>\n",
       "    </tr>\n",
       "  </thead>\n",
       "  <tbody>\n",
       "    <tr>\n",
       "      <th>0</th>\n",
       "      <td>8-29-2022</td>\n",
       "      <td>BDMS</td>\n",
       "    </tr>\n",
       "    <tr>\n",
       "      <th>1</th>\n",
       "      <td>8-29-2022</td>\n",
       "      <td>BTS</td>\n",
       "    </tr>\n",
       "    <tr>\n",
       "      <th>2</th>\n",
       "      <td>8-29-2022</td>\n",
       "      <td>CPALL</td>\n",
       "    </tr>\n",
       "    <tr>\n",
       "      <th>3</th>\n",
       "      <td>8-29-2022</td>\n",
       "      <td>HMPRO</td>\n",
       "    </tr>\n",
       "    <tr>\n",
       "      <th>4</th>\n",
       "      <td>8-29-2022</td>\n",
       "      <td>MAJOR</td>\n",
       "    </tr>\n",
       "    <tr>\n",
       "      <th>5</th>\n",
       "      <td>8-29-2022</td>\n",
       "      <td>SCGP256A</td>\n",
       "    </tr>\n",
       "    <tr>\n",
       "      <th>6</th>\n",
       "      <td>8-29-2022</td>\n",
       "      <td>K-VIETNAM</td>\n",
       "    </tr>\n",
       "    <tr>\n",
       "      <th>7</th>\n",
       "      <td>8-29-2022</td>\n",
       "      <td>K-Change-A(A)</td>\n",
       "    </tr>\n",
       "    <tr>\n",
       "      <th>8</th>\n",
       "      <td>8-29-2022</td>\n",
       "      <td>B-INNOTECH</td>\n",
       "    </tr>\n",
       "    <tr>\n",
       "      <th>9</th>\n",
       "      <td>8-29-2022</td>\n",
       "      <td>K-CHANGE-SSF</td>\n",
       "    </tr>\n",
       "    <tr>\n",
       "      <th>10</th>\n",
       "      <td>8-29-2022</td>\n",
       "      <td>K-USXNDQ-A(D)</td>\n",
       "    </tr>\n",
       "    <tr>\n",
       "      <th>11</th>\n",
       "      <td>8-29-2022</td>\n",
       "      <td>ONE-UGG-RA</td>\n",
       "    </tr>\n",
       "    <tr>\n",
       "      <th>13</th>\n",
       "      <td>8-29-2022</td>\n",
       "      <td>OffShore</td>\n",
       "    </tr>\n",
       "  </tbody>\n",
       "</table>\n",
       "</div>"
      ],
      "text/plain": [
       "         date           name\n",
       "0   8-29-2022           BDMS\n",
       "1   8-29-2022            BTS\n",
       "2   8-29-2022          CPALL\n",
       "3   8-29-2022          HMPRO\n",
       "4   8-29-2022          MAJOR\n",
       "5   8-29-2022       SCGP256A\n",
       "6   8-29-2022      K-VIETNAM\n",
       "7   8-29-2022  K-Change-A(A)\n",
       "8   8-29-2022     B-INNOTECH\n",
       "9   8-29-2022   K-CHANGE-SSF\n",
       "10  8-29-2022  K-USXNDQ-A(D)\n",
       "11  8-29-2022     ONE-UGG-RA\n",
       "13  8-29-2022       OffShore"
      ]
     },
     "execution_count": 154,
     "metadata": {},
     "output_type": "execute_result"
    }
   ],
   "source": [
    "withOutCash = data.loc[(data.name != \"Cash\") & (data.name != \"Lend\")]\n",
    "withOutCash.loc[:,[\"date\",\"name\"]]"
   ]
  },
  {
   "cell_type": "code",
   "execution_count": 155,
   "id": "fe90fb68",
   "metadata": {},
   "outputs": [
    {
     "data": {
      "text/plain": [
       "<AxesSubplot:xlabel='name'>"
      ]
     },
     "execution_count": 155,
     "metadata": {},
     "output_type": "execute_result"
    },
    {
     "data": {
      "image/png": "[encoded data removed]",
      "text/plain": [
       "<Figure size 1440x720 with 1 Axes>"
      ]
     },
     "metadata": {},
     "output_type": "display_data"
    }
   ],
   "source": [
    "withOutCash.loc[:,[\"name\", \"currentPrice\"]].plot(x=\"name\", y=\"currentPrice\", kind=\"bar\")"
   ]
  },
  {
   "cell_type": "code",
   "execution_count": 156,
   "id": "84ab0aa5",
   "metadata": {},
   "outputs": [
    {
     "data": {
      "text/plain": [
       "([<matplotlib.patches.Wedge at 0x2569e3f6220>,\n",
       "  <matplotlib.patches.Wedge at 0x2569e3f6490>,\n",
       "  <matplotlib.patches.Wedge at 0x2569e3ef670>,\n",
       "  <matplotlib.patches.Wedge at 0x2569e3ef9d0>,\n",
       "  <matplotlib.patches.Wedge at 0x2569e3efe20>,\n",
       "  <matplotlib.patches.Wedge at 0x2569e3fc100>,\n",
       "  <matplotlib.patches.Wedge at 0x2569e3f60d0>,\n",
       "  <matplotlib.patches.Wedge at 0x2569e3fccd0>,\n",
       "  <matplotlib.patches.Wedge at 0x2569e417520>,\n",
       "  <matplotlib.patches.Wedge at 0x2569e3e6160>,\n",
       "  <matplotlib.patches.Wedge at 0x2569e3e66d0>,\n",
       "  <matplotlib.patches.Wedge at 0x2569e0892b0>,\n",
       "  <matplotlib.patches.Wedge at 0x2569e00cf10>],\n",
       " [Text(1.095010160226464, 0.10465538209195895, 'BDMS'),\n",
       "  Text(1.0659679580339656, 0.27150011499978766, 'BTS'),\n",
       "  Text(0.9702542013713139, 0.5182728863459037, 'CPALL'),\n",
       "  Text(0.7647825168473414, 0.7906375287858818, 'HMPRO'),\n",
       "  Text(0.6016328039911195, 0.9208897703643925, 'MAJOR'),\n",
       "  Text(-0.4140756842656274, 1.0190884788378056, 'SCGP256A'),\n",
       "  Text(-1.0602524442265833, -0.2930268835986834, 'K-VIETNAM'),\n",
       "  Text(-0.3316777512380153, -1.048804018553368, 'K-Change-A(A)'),\n",
       "  Text(0.5130292801836117, -0.9730369765195388, 'B-INNOTECH'),\n",
       "  Text(0.8770989585373782, -0.6638504477159345, 'K-CHANGE-SSF'),\n",
       "  Text(0.9616735416240132, -0.5340262159672761, 'K-USXNDQ-A(D)'),\n",
       "  Text(1.003796084208986, -0.44988156366615734, 'ONE-UGG-RA'),\n",
       "  Text(1.0795171670462849, -0.21128815880773702, 'OffShore')])"
      ]
     },
     "execution_count": 156,
     "metadata": {},
     "output_type": "execute_result"
    },
    {
     "data": {
      "image/png": "[encoded data removed]",
      "text/plain": [
       "<Figure size 1440x720 with 1 Axes>"
      ]
     },
     "metadata": {},
     "output_type": "display_data"
    }
   ],
   "source": [
    "plt.pie(withOutCash[\"currentPrice\"], labels=withOutCash[\"name\"])"
   ]
  },
  {
   "cell_type": "code",
   "execution_count": 157,
   "id": "d31a1660",
   "metadata": {},
   "outputs": [
    {
     "name": "stderr",
     "output_type": "stream",
     "text": [
      "C:\\Users\\tongn\\AppData\\Local\\Temp\\ipykernel_11696\\1680714026.py:1: SettingWithCopyWarning: \n",
      "A value is trying to be set on a copy of a slice from a DataFrame.\n",
      "Try using .loc[row_indexer,col_indexer] = value instead\n",
      "\n",
      "See the caveats in the documentation: https://pandas.pydata.org/pandas-docs/stable/user_guide/indexing.html#returning-a-view-versus-a-copy\n",
      "  withOutCash[\"growth\"] = ((withOutCash.currentPrice - withOutCash.cost) / withOutCash.cost) * 100\n"
     ]
    },
    {
     "data": {
      "text/html": [
       "<div>\n",
       "<style scoped>\n",
       "    .dataframe tbody tr th:only-of-type {\n",
       "        vertical-align: middle;\n",
       "    }\n",
       "\n",
       "    .dataframe tbody tr th {\n",
       "        vertical-align: top;\n",
       "    }\n",
       "\n",
       "    .dataframe thead th {\n",
       "        text-align: right;\n",
       "    }\n",
       "</style>\n",
       "<table border=\"1\" class=\"dataframe\">\n",
       "  <thead>\n",
       "    <tr style=\"text-align: right;\">\n",
       "      <th></th>\n",
       "      <th>date</th>\n",
       "      <th>name</th>\n",
       "      <th>type</th>\n",
       "      <th>cost</th>\n",
       "      <th>currentPrice</th>\n",
       "      <th>growth</th>\n",
       "    </tr>\n",
       "  </thead>\n",
       "  <tbody>\n",
       "    <tr>\n",
       "      <th>0</th>\n",
       "      <td>8-29-2022</td>\n",
       "      <td>BDMS</td>\n",
       "      <td>Thai Strock</td>\n",
       "      <td>1407.14</td>\n",
       "      <td>2109.00</td>\n",
       "      <td>49.878477</td>\n",
       "    </tr>\n",
       "    <tr>\n",
       "      <th>1</th>\n",
       "      <td>8-29-2022</td>\n",
       "      <td>BTS</td>\n",
       "      <td>Thai Strock</td>\n",
       "      <td>1691.23</td>\n",
       "      <td>1302.00</td>\n",
       "      <td>-23.014611</td>\n",
       "    </tr>\n",
       "    <tr>\n",
       "      <th>2</th>\n",
       "      <td>8-29-2022</td>\n",
       "      <td>CPALL</td>\n",
       "      <td>Thai Strock</td>\n",
       "      <td>4616.49</td>\n",
       "      <td>4036.75</td>\n",
       "      <td>-12.558026</td>\n",
       "    </tr>\n",
       "    <tr>\n",
       "      <th>3</th>\n",
       "      <td>8-29-2022</td>\n",
       "      <td>HMPRO</td>\n",
       "      <td>Thai Strock</td>\n",
       "      <td>2141.13</td>\n",
       "      <td>2856.00</td>\n",
       "      <td>33.387510</td>\n",
       "    </tr>\n",
       "    <tr>\n",
       "      <th>4</th>\n",
       "      <td>8-29-2022</td>\n",
       "      <td>MAJOR</td>\n",
       "      <td>Thai Strock</td>\n",
       "      <td>1061.78</td>\n",
       "      <td>1351.00</td>\n",
       "      <td>27.239164</td>\n",
       "    </tr>\n",
       "    <tr>\n",
       "      <th>5</th>\n",
       "      <td>8-29-2022</td>\n",
       "      <td>SCGP256A</td>\n",
       "      <td>Thai Bound</td>\n",
       "      <td>20000.00</td>\n",
       "      <td>20000.00</td>\n",
       "      <td>0.000000</td>\n",
       "    </tr>\n",
       "    <tr>\n",
       "      <th>6</th>\n",
       "      <td>8-29-2022</td>\n",
       "      <td>K-VIETNAM</td>\n",
       "      <td>Fund</td>\n",
       "      <td>11500.00</td>\n",
       "      <td>12193.14</td>\n",
       "      <td>6.027304</td>\n",
       "    </tr>\n",
       "    <tr>\n",
       "      <th>7</th>\n",
       "      <td>8-29-2022</td>\n",
       "      <td>K-Change-A(A)</td>\n",
       "      <td>Fund</td>\n",
       "      <td>9999.99</td>\n",
       "      <td>9826.62</td>\n",
       "      <td>-1.733702</td>\n",
       "    </tr>\n",
       "    <tr>\n",
       "      <th>8</th>\n",
       "      <td>8-29-2022</td>\n",
       "      <td>B-INNOTECH</td>\n",
       "      <td>Fund</td>\n",
       "      <td>7000.00</td>\n",
       "      <td>7692.00</td>\n",
       "      <td>9.885714</td>\n",
       "    </tr>\n",
       "    <tr>\n",
       "      <th>9</th>\n",
       "      <td>8-29-2022</td>\n",
       "      <td>K-CHANGE-SSF</td>\n",
       "      <td>Fund</td>\n",
       "      <td>2500.00</td>\n",
       "      <td>1995.99</td>\n",
       "      <td>-20.160400</td>\n",
       "    </tr>\n",
       "    <tr>\n",
       "      <th>10</th>\n",
       "      <td>8-29-2022</td>\n",
       "      <td>K-USXNDQ-A(D)</td>\n",
       "      <td>Fund</td>\n",
       "      <td>1000.00</td>\n",
       "      <td>1124.25</td>\n",
       "      <td>12.425000</td>\n",
       "    </tr>\n",
       "    <tr>\n",
       "      <th>11</th>\n",
       "      <td>8-29-2022</td>\n",
       "      <td>ONE-UGG-RA</td>\n",
       "      <td>Fund</td>\n",
       "      <td>1000.00</td>\n",
       "      <td>769.73</td>\n",
       "      <td>-23.027000</td>\n",
       "    </tr>\n",
       "    <tr>\n",
       "      <th>13</th>\n",
       "      <td>8-29-2022</td>\n",
       "      <td>OffShore</td>\n",
       "      <td>Cash</td>\n",
       "      <td>4000.00</td>\n",
       "      <td>4278.00</td>\n",
       "      <td>6.950000</td>\n",
       "    </tr>\n",
       "  </tbody>\n",
       "</table>\n",
       "</div>"
      ],
      "text/plain": [
       "         date           name         type      cost  currentPrice     growth\n",
       "0   8-29-2022           BDMS  Thai Strock   1407.14       2109.00  49.878477\n",
       "1   8-29-2022            BTS  Thai Strock   1691.23       1302.00 -23.014611\n",
       "2   8-29-2022          CPALL  Thai Strock   4616.49       4036.75 -12.558026\n",
       "3   8-29-2022          HMPRO  Thai Strock   2141.13       2856.00  33.387510\n",
       "4   8-29-2022          MAJOR  Thai Strock   1061.78       1351.00  27.239164\n",
       "5   8-29-2022       SCGP256A   Thai Bound  20000.00      20000.00   0.000000\n",
       "6   8-29-2022      K-VIETNAM         Fund  11500.00      12193.14   6.027304\n",
       "7   8-29-2022  K-Change-A(A)         Fund   9999.99       9826.62  -1.733702\n",
       "8   8-29-2022     B-INNOTECH         Fund   7000.00       7692.00   9.885714\n",
       "9   8-29-2022   K-CHANGE-SSF         Fund   2500.00       1995.99 -20.160400\n",
       "10  8-29-2022  K-USXNDQ-A(D)         Fund   1000.00       1124.25  12.425000\n",
       "11  8-29-2022     ONE-UGG-RA         Fund   1000.00        769.73 -23.027000\n",
       "13  8-29-2022       OffShore         Cash   4000.00       4278.00   6.950000"
      ]
     },
     "execution_count": 157,
     "metadata": {},
     "output_type": "execute_result"
    }
   ],
   "source": [
    "withOutCash[\"growth\"] = ((withOutCash.currentPrice - withOutCash.cost) / withOutCash.cost) * 100\n",
    "withOutCash"
   ]
  },
  {
   "cell_type": "code",
   "execution_count": 158,
   "id": "f53b0206",
   "metadata": {},
   "outputs": [
    {
     "data": {
      "text/plain": [
       "array(['BDMS', 'BTS', 'CPALL', 'HMPRO', 'MAJOR', 'SCGP256A', 'K-VIETNAM',\n",
       "       'K-Change-A(A)', 'B-INNOTECH', 'K-CHANGE-SSF', 'K-USXNDQ-A(D)',\n",
       "       'ONE-UGG-RA', 'Cash', 'OffShore', 'Lend', 'Cash'], dtype=object)"
      ]
     },
     "execution_count": 158,
     "metadata": {},
     "output_type": "execute_result"
    }
   ],
   "source": [
    "data.name.to_numpy()"
   ]
  },
  {
   "cell_type": "code",
   "execution_count": 159,
   "id": "1f7a4964",
   "metadata": {
    "scrolled": false
   },
   "outputs": [
    {
     "data": {
      "text/plain": [
       "<matplotlib.collections.PathCollection at 0x2569d809bb0>"
      ]
     },
     "execution_count": 159,
     "metadata": {},
     "output_type": "execute_result"
    },
    {
     "data": {
      "image/png": "[encoded data removed]",
      "text/plain": [
       "<Figure size 1440x720 with 1 Axes>"
      ]
     },
     "metadata": {},
     "output_type": "display_data"
    }
   ],
   "source": [
    "plt.scatter(x=withOutCash[\"currentPrice\"], y=withOutCash[\"growth\"],s=200, c=withOutCash[\"cost\"],cmap='Reds')"
   ]
  },
  {
   "cell_type": "code",
   "execution_count": 160,
   "id": "3280309d",
   "metadata": {},
   "outputs": [
    {
     "data": {
      "text/html": [
       "<div>\n",
       "<style scoped>\n",
       "    .dataframe tbody tr th:only-of-type {\n",
       "        vertical-align: middle;\n",
       "    }\n",
       "\n",
       "    .dataframe tbody tr th {\n",
       "        vertical-align: top;\n",
       "    }\n",
       "\n",
       "    .dataframe thead th {\n",
       "        text-align: right;\n",
       "    }\n",
       "</style>\n",
       "<table border=\"1\" class=\"dataframe\">\n",
       "  <thead>\n",
       "    <tr style=\"text-align: right;\">\n",
       "      <th></th>\n",
       "      <th>cost</th>\n",
       "      <th>currentPrice</th>\n",
       "      <th>growth</th>\n",
       "    </tr>\n",
       "    <tr>\n",
       "      <th>name</th>\n",
       "      <th></th>\n",
       "      <th></th>\n",
       "      <th></th>\n",
       "    </tr>\n",
       "  </thead>\n",
       "  <tbody>\n",
       "    <tr>\n",
       "      <th>B-INNOTECH</th>\n",
       "      <td>7000.00</td>\n",
       "      <td>7692.00</td>\n",
       "      <td>9.885714</td>\n",
       "    </tr>\n",
       "    <tr>\n",
       "      <th>BDMS</th>\n",
       "      <td>1407.14</td>\n",
       "      <td>2109.00</td>\n",
       "      <td>49.878477</td>\n",
       "    </tr>\n",
       "    <tr>\n",
       "      <th>BTS</th>\n",
       "      <td>1691.23</td>\n",
       "      <td>1302.00</td>\n",
       "      <td>-23.014611</td>\n",
       "    </tr>\n",
       "    <tr>\n",
       "      <th>CPALL</th>\n",
       "      <td>4616.49</td>\n",
       "      <td>4036.75</td>\n",
       "      <td>-12.558026</td>\n",
       "    </tr>\n",
       "    <tr>\n",
       "      <th>HMPRO</th>\n",
       "      <td>2141.13</td>\n",
       "      <td>2856.00</td>\n",
       "      <td>33.387510</td>\n",
       "    </tr>\n",
       "    <tr>\n",
       "      <th>K-CHANGE-SSF</th>\n",
       "      <td>2500.00</td>\n",
       "      <td>1995.99</td>\n",
       "      <td>-20.160400</td>\n",
       "    </tr>\n",
       "    <tr>\n",
       "      <th>K-Change-A(A)</th>\n",
       "      <td>9999.99</td>\n",
       "      <td>9826.62</td>\n",
       "      <td>-1.733702</td>\n",
       "    </tr>\n",
       "    <tr>\n",
       "      <th>K-USXNDQ-A(D)</th>\n",
       "      <td>1000.00</td>\n",
       "      <td>1124.25</td>\n",
       "      <td>12.425000</td>\n",
       "    </tr>\n",
       "    <tr>\n",
       "      <th>K-VIETNAM</th>\n",
       "      <td>11500.00</td>\n",
       "      <td>12193.14</td>\n",
       "      <td>6.027304</td>\n",
       "    </tr>\n",
       "    <tr>\n",
       "      <th>MAJOR</th>\n",
       "      <td>1061.78</td>\n",
       "      <td>1351.00</td>\n",
       "      <td>27.239164</td>\n",
       "    </tr>\n",
       "    <tr>\n",
       "      <th>ONE-UGG-RA</th>\n",
       "      <td>1000.00</td>\n",
       "      <td>769.73</td>\n",
       "      <td>-23.027000</td>\n",
       "    </tr>\n",
       "    <tr>\n",
       "      <th>OffShore</th>\n",
       "      <td>4000.00</td>\n",
       "      <td>4278.00</td>\n",
       "      <td>6.950000</td>\n",
       "    </tr>\n",
       "    <tr>\n",
       "      <th>SCGP256A</th>\n",
       "      <td>20000.00</td>\n",
       "      <td>20000.00</td>\n",
       "      <td>0.000000</td>\n",
       "    </tr>\n",
       "  </tbody>\n",
       "</table>\n",
       "</div>"
      ],
      "text/plain": [
       "                   cost  currentPrice     growth\n",
       "name                                            \n",
       "B-INNOTECH      7000.00       7692.00   9.885714\n",
       "BDMS            1407.14       2109.00  49.878477\n",
       "BTS             1691.23       1302.00 -23.014611\n",
       "CPALL           4616.49       4036.75 -12.558026\n",
       "HMPRO           2141.13       2856.00  33.387510\n",
       "K-CHANGE-SSF    2500.00       1995.99 -20.160400\n",
       "K-Change-A(A)   9999.99       9826.62  -1.733702\n",
       "K-USXNDQ-A(D)   1000.00       1124.25  12.425000\n",
       "K-VIETNAM      11500.00      12193.14   6.027304\n",
       "MAJOR           1061.78       1351.00  27.239164\n",
       "ONE-UGG-RA      1000.00        769.73 -23.027000\n",
       "OffShore        4000.00       4278.00   6.950000\n",
       "SCGP256A       20000.00      20000.00   0.000000"
      ]
     },
     "execution_count": 160,
     "metadata": {},
     "output_type": "execute_result"
    }
   ],
   "source": [
    "groups = withOutCash.groupby('name')\n",
    "groups.mean()"
   ]
  },
  {
   "cell_type": "code",
   "execution_count": 161,
   "id": "b570303e",
   "metadata": {
    "scrolled": false
   },
   "outputs": [
    {
     "data": {
      "image/png": "[encoded data removed]",
      "text/plain": [
       "<Figure size 1440x720 with 1 Axes>"
      ]
     },
     "metadata": {},
     "output_type": "display_data"
    }
   ],
   "source": [
    "groups = withOutCash.groupby('name')\n",
    "groups.sum()\n",
    "for name, group in groups:\n",
    "    plt.scatter(group[\"currentPrice\"],group[\"growth\"], label=name,s=200)\n",
    "plt.legend()\n",
    "plt.show()"
   ]
  },
  {
   "cell_type": "code",
   "execution_count": 162,
   "id": "920d4e3f",
   "metadata": {},
   "outputs": [
    {
     "data": {
      "text/html": [
       "<div>\n",
       "<style scoped>\n",
       "    .dataframe tbody tr th:only-of-type {\n",
       "        vertical-align: middle;\n",
       "    }\n",
       "\n",
       "    .dataframe tbody tr th {\n",
       "        vertical-align: top;\n",
       "    }\n",
       "\n",
       "    .dataframe thead th {\n",
       "        text-align: right;\n",
       "    }\n",
       "</style>\n",
       "<table border=\"1\" class=\"dataframe\">\n",
       "  <thead>\n",
       "    <tr style=\"text-align: right;\">\n",
       "      <th></th>\n",
       "      <th>cost</th>\n",
       "      <th>currentPrice</th>\n",
       "      <th>growth</th>\n",
       "    </tr>\n",
       "    <tr>\n",
       "      <th>type</th>\n",
       "      <th></th>\n",
       "      <th></th>\n",
       "      <th></th>\n",
       "    </tr>\n",
       "  </thead>\n",
       "  <tbody>\n",
       "    <tr>\n",
       "      <th>Cash</th>\n",
       "      <td>4000.00</td>\n",
       "      <td>4278.00</td>\n",
       "      <td>6.950000</td>\n",
       "    </tr>\n",
       "    <tr>\n",
       "      <th>Fund</th>\n",
       "      <td>32999.99</td>\n",
       "      <td>33601.73</td>\n",
       "      <td>-16.583083</td>\n",
       "    </tr>\n",
       "    <tr>\n",
       "      <th>Thai Bound</th>\n",
       "      <td>20000.00</td>\n",
       "      <td>20000.00</td>\n",
       "      <td>0.000000</td>\n",
       "    </tr>\n",
       "    <tr>\n",
       "      <th>Thai Strock</th>\n",
       "      <td>10917.77</td>\n",
       "      <td>11654.75</td>\n",
       "      <td>74.932515</td>\n",
       "    </tr>\n",
       "  </tbody>\n",
       "</table>\n",
       "</div>"
      ],
      "text/plain": [
       "                 cost  currentPrice     growth\n",
       "type                                          \n",
       "Cash          4000.00       4278.00   6.950000\n",
       "Fund         32999.99      33601.73 -16.583083\n",
       "Thai Bound   20000.00      20000.00   0.000000\n",
       "Thai Strock  10917.77      11654.75  74.932515"
      ]
     },
     "execution_count": 162,
     "metadata": {},
     "output_type": "execute_result"
    }
   ],
   "source": [
    "withOutCash.groupby([\"type\"]).sum()"
   ]
  },
  {
   "cell_type": "code",
   "execution_count": 163,
   "id": "589db80a",
   "metadata": {},
   "outputs": [],
   "source": [
    "groupByType = withOutCash.groupby([\"type\"]).sum()\n",
    "groupByType['growth'] = ((groupByType.currentPrice - groupByType.cost) / groupByType.cost) * 100\n",
    "groupByType = groupByType.reset_index()"
   ]
  },
  {
   "cell_type": "code",
   "execution_count": 164,
   "id": "6348925b",
   "metadata": {},
   "outputs": [
    {
     "data": {
      "text/html": [
       "<div>\n",
       "<style scoped>\n",
       "    .dataframe tbody tr th:only-of-type {\n",
       "        vertical-align: middle;\n",
       "    }\n",
       "\n",
       "    .dataframe tbody tr th {\n",
       "        vertical-align: top;\n",
       "    }\n",
       "\n",
       "    .dataframe thead th {\n",
       "        text-align: right;\n",
       "    }\n",
       "</style>\n",
       "<table border=\"1\" class=\"dataframe\">\n",
       "  <thead>\n",
       "    <tr style=\"text-align: right;\">\n",
       "      <th></th>\n",
       "      <th>type</th>\n",
       "      <th>cost</th>\n",
       "      <th>currentPrice</th>\n",
       "      <th>growth</th>\n",
       "    </tr>\n",
       "  </thead>\n",
       "  <tbody>\n",
       "    <tr>\n",
       "      <th>0</th>\n",
       "      <td>Cash</td>\n",
       "      <td>4000.00</td>\n",
       "      <td>4278.00</td>\n",
       "      <td>6.950000</td>\n",
       "    </tr>\n",
       "    <tr>\n",
       "      <th>1</th>\n",
       "      <td>Fund</td>\n",
       "      <td>32999.99</td>\n",
       "      <td>33601.73</td>\n",
       "      <td>1.823455</td>\n",
       "    </tr>\n",
       "    <tr>\n",
       "      <th>2</th>\n",
       "      <td>Thai Bound</td>\n",
       "      <td>20000.00</td>\n",
       "      <td>20000.00</td>\n",
       "      <td>0.000000</td>\n",
       "    </tr>\n",
       "    <tr>\n",
       "      <th>3</th>\n",
       "      <td>Thai Strock</td>\n",
       "      <td>10917.77</td>\n",
       "      <td>11654.75</td>\n",
       "      <td>6.750280</td>\n",
       "    </tr>\n",
       "  </tbody>\n",
       "</table>\n",
       "</div>"
      ],
      "text/plain": [
       "          type      cost  currentPrice    growth\n",
       "0         Cash   4000.00       4278.00  6.950000\n",
       "1         Fund  32999.99      33601.73  1.823455\n",
       "2   Thai Bound  20000.00      20000.00  0.000000\n",
       "3  Thai Strock  10917.77      11654.75  6.750280"
      ]
     },
     "execution_count": 164,
     "metadata": {},
     "output_type": "execute_result"
    }
   ],
   "source": [
    "groupByType"
   ]
  },
  {
   "cell_type": "code",
   "execution_count": 165,
   "id": "e8313225",
   "metadata": {},
   "outputs": [
    {
     "data": {
      "image/png": "[encoded data removed]",
      "text/plain": [
       "<Figure size 1440x720 with 1 Axes>"
      ]
     },
     "metadata": {},
     "output_type": "display_data"
    }
   ],
   "source": [
    "groups = groupByType.groupby('type')\n",
    "groups.sum()\n",
    "for types, group in groups:\n",
    "    plt.scatter(group[\"currentPrice\"],group[\"growth\"], label=types,s=200)\n",
    "plt.legend()\n",
    "plt.show()"
   ]
  },
  {
   "cell_type": "code",
   "execution_count": 166,
   "id": "23c74f15",
   "metadata": {},
   "outputs": [
    {
     "data": {
      "text/html": [
       "<div>\n",
       "<style scoped>\n",
       "    .dataframe tbody tr th:only-of-type {\n",
       "        vertical-align: middle;\n",
       "    }\n",
       "\n",
       "    .dataframe tbody tr th {\n",
       "        vertical-align: top;\n",
       "    }\n",
       "\n",
       "    .dataframe thead th {\n",
       "        text-align: right;\n",
       "    }\n",
       "</style>\n",
       "<table border=\"1\" class=\"dataframe\">\n",
       "  <thead>\n",
       "    <tr style=\"text-align: right;\">\n",
       "      <th></th>\n",
       "      <th>cost</th>\n",
       "      <th>currentPrice</th>\n",
       "    </tr>\n",
       "    <tr>\n",
       "      <th>type</th>\n",
       "      <th></th>\n",
       "      <th></th>\n",
       "    </tr>\n",
       "  </thead>\n",
       "  <tbody>\n",
       "    <tr>\n",
       "      <th>Cash</th>\n",
       "      <td>76757.14</td>\n",
       "      <td>77035.14</td>\n",
       "    </tr>\n",
       "    <tr>\n",
       "      <th>Fund</th>\n",
       "      <td>32999.99</td>\n",
       "      <td>33601.73</td>\n",
       "    </tr>\n",
       "    <tr>\n",
       "      <th>Lend</th>\n",
       "      <td>15000.00</td>\n",
       "      <td>15000.00</td>\n",
       "    </tr>\n",
       "    <tr>\n",
       "      <th>Thai Bound</th>\n",
       "      <td>20000.00</td>\n",
       "      <td>20000.00</td>\n",
       "    </tr>\n",
       "    <tr>\n",
       "      <th>Thai Strock</th>\n",
       "      <td>10917.77</td>\n",
       "      <td>11654.75</td>\n",
       "    </tr>\n",
       "  </tbody>\n",
       "</table>\n",
       "</div>"
      ],
      "text/plain": [
       "                 cost  currentPrice\n",
       "type                               \n",
       "Cash         76757.14      77035.14\n",
       "Fund         32999.99      33601.73\n",
       "Lend         15000.00      15000.00\n",
       "Thai Bound   20000.00      20000.00\n",
       "Thai Strock  10917.77      11654.75"
      ]
     },
     "execution_count": 166,
     "metadata": {},
     "output_type": "execute_result"
    }
   ],
   "source": [
    "groupType = data.groupby([\"type\"]).sum()\n",
    "groupType"
   ]
  },
  {
   "cell_type": "code",
   "execution_count": 167,
   "id": "78f93171",
   "metadata": {
    "scrolled": false
   },
   "outputs": [
    {
     "data": {
      "text/plain": [
       "([<matplotlib.patches.Wedge at 0x256a043b5e0>,\n",
       "  <matplotlib.patches.Wedge at 0x256a043baf0>,\n",
       "  <matplotlib.patches.Wedge at 0x256a043bfd0>,\n",
       "  <matplotlib.patches.Wedge at 0x256a044a4f0>,\n",
       "  <matplotlib.patches.Wedge at 0x256a044a9d0>],\n",
       " [Text(0.035380962675332014, 1.0994308470659566, 'Cash'),\n",
       "  Text(-0.9036317566024339, -0.627255648407888, 'Fund'),\n",
       "  Text(0.00738858657993336, -1.099975185532997, 'Lend'),\n",
       "  Text(0.7134850347121127, -0.8372210611552099, 'Thai Bound'),\n",
       "  Text(1.0703314700365518, -0.2537529196864426, 'Thai Strock')])"
      ]
     },
     "execution_count": 167,
     "metadata": {},
     "output_type": "execute_result"
    },
    {
     "data": {
      "image/png": "[encoded data removed]",
      "text/plain": [
       "<Figure size 1440x720 with 1 Axes>"
      ]
     },
     "metadata": {},
     "output_type": "display_data"
    }
   ],
   "source": [
    "plt.pie(groupType[\"currentPrice\"], labels=groupType.index)"
   ]
  }
 ],
 "metadata": {
  "kernelspec": {
   "display_name": "Python 3 (ipykernel)",
   "language": "python",
   "name": "python3"
  },
  "language_info": {
   "codemirror_mode": {
    "name": "ipython",
    "version": 3
   },
   "file_extension": ".py",
   "mimetype": "text/x-python",
   "name": "python",
   "nbconvert_exporter": "python",
   "pygments_lexer": "ipython3",
   "version": "3.9.12"
  }
 },
 "nbformat": 4,
 "nbformat_minor": 5
}
